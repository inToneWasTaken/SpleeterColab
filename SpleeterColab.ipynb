{
  "nbformat": 4,
  "nbformat_minor": 0,
  "metadata": {
    "colab": {
      "name": "SpleeterColab",
      "provenance": [],
      "collapsed_sections": [],
      "toc_visible": true
    },
    "kernelspec": {
      "display_name": "Python 3",
      "name": "python3"
    },
    "accelerator": "GPU"
  },
  "cells": [
    {
      "cell_type": "markdown",
      "metadata": {
        "id": "EVg6E2YHfWTG"
      },
      "source": [
        "# SpleeterColab\n",
        "A Google Colab notebook for performing source separation using Deezer's Spleeter library."
      ]
    },
    {
      "cell_type": "code",
      "metadata": {
        "id": "f8Brdfh6mzEz"
      },
      "source": [
        "!apt install ffmpeg"
      ],
      "execution_count": null,
      "outputs": []
    },
    {
      "cell_type": "code",
      "metadata": {
        "id": "vgzKZx7fciz7"
      },
      "source": [
        "pip install spleeter-gpu"
      ],
      "execution_count": null,
      "outputs": []
    },
    {
      "cell_type": "code",
      "metadata": {
        "id": "wh7AZESPgXX5"
      },
      "source": [
        "from google.colab import files\n",
        "uploads = files.upload()"
      ],
      "execution_count": null,
      "outputs": []
    },
    {
      "cell_type": "code",
      "metadata": {
        "id": "EdlphwgsfNw4"
      },
      "source": [
        "#@title Options\n",
        "\n",
        "model = \"spleeter:4stems\" #@param [\"spleeter:2stems\", \"spleeter:2stems-16kHz\", \"spleeter:4stems\", \"spleeter:4stems-16kHz\", \"spleeter:5stems\", \"spleeter:5stems-16kHz\"]\n",
        "output_path = \"output\" #@param {type:\"string\"}\n",
        "verbose = False #@param {type:\"boolean\"}\n",
        "\n",
        "for upload in uploads:\n",
        "    if verbose:\n",
        "        !spleeter separate -i \"{upload}\" -p {model} -o {output_path} --verbose\n",
        "    else:\n",
        "        !spleeter separate -i \"{upload}\" -p {model} -o {output_path}"
      ],
      "execution_count": null,
      "outputs": []
    },
    {
      "cell_type": "code",
      "metadata": {
        "id": "WlESHkcYe1_3"
      },
      "source": [
        "!zip -r /content/{output_path}.zip /content/{output_path}"
      ],
      "execution_count": null,
      "outputs": []
    },
    {
      "cell_type": "code",
      "metadata": {
        "id": "_rnXNnWDenFS"
      },
      "source": [
        "files.download(\"/content/output.zip\")"
      ],
      "execution_count": null,
      "outputs": []
    }
  ]
}