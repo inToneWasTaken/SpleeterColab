{
  "nbformat": 4,
  "nbformat_minor": 0,
  "metadata": {
    "colab": {
      "name": "Spleeter",
      "provenance": [],
      "collapsed_sections": []
    },
    "kernelspec": {
      "display_name": "Python 3",
      "name": "python3"
    },
    "accelerator": "GPU"
  },
  "cells": [
    {
      "cell_type": "code",
      "metadata": {
        "colab_type": "code",
        "id": "f8Brdfh6mzEz",
        "colab": {}
      },
      "source": [
        "# Ensure dependencies are in place...\n",
        "!apt install ffmpeg\n",
        "pip install spleeter-gpu"
      ],
      "execution_count": null,
      "outputs": []
    },
    {
      "cell_type": "code",
      "metadata": {
        "colab_type": "code",
        "id": "dGL-k5xxoKbu",
        "colab": {}
      },
      "source": [
        "!spleeter separate -i \"\" -p spleeter:5stems-16kHz -o 5stems-16kHz"
      ],
      "execution_count": null,
      "outputs": []
    }
  ]
}